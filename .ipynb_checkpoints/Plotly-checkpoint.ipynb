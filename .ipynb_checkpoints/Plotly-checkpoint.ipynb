{
 "cells": [
  {
   "cell_type": "code",
   "execution_count": 20,
   "metadata": {},
   "outputs": [],
   "source": [
    "library(\"ggplot2\")\n",
    "library(plotly)"
   ]
  },
  {
   "cell_type": "code",
   "execution_count": 21,
   "metadata": {
    "collapsed": true
   },
   "outputs": [],
   "source": [
    "a = data.frame(1:20,1:20)"
   ]
  },
  {
   "cell_type": "code",
   "execution_count": 22,
   "metadata": {
    "collapsed": true
   },
   "outputs": [],
   "source": [
    "p <- ggplot(data = a, aes(x = a[1], y=a[2])) + geom_point()"
   ]
  },
  {
   "cell_type": "code",
   "execution_count": 23,
   "metadata": {},
   "outputs": [
    {
     "ename": "ERROR",
     "evalue": "Error in ggfun(\"create_layout\")(plot$facet, plot$coordinates): unused argument (plot$coordinates)\n",
     "output_type": "error",
     "traceback": [
      "Error in ggfun(\"create_layout\")(plot$facet, plot$coordinates): unused argument (plot$coordinates)\nTraceback:\n",
      "1. embed_notebook(ggplotly(p))",
      "2. ggplotly(p)",
      "3. ggplotly.ggplot(p)",
      "4. gg2list(p, width = width, height = height, tooltip = tooltip, \n .     dynamicTicks = dynamicTicks, layerData = layerData, originalData = originalData, \n .     source = source, ...)"
     ]
    }
   ],
   "source": [
    "embed_notebook(ggplotly(p))"
   ]
  },
  {
   "cell_type": "code",
   "execution_count": null,
   "metadata": {},
   "outputs": [],
   "source": [
    "library(plotly)\n",
    "\n",
    "set.seed(123)\n",
    "\n",
    "x <- rnorm(1000)\n",
    "y <- rchisq(1000, df = 1, ncp = 0)\n",
    "group <- sample(LETTERS[1:5], size = 1000, replace = T)\n",
    "size <- sample(1:5, size = 1000, replace = T)\n",
    "\n",
    "ds <- data.frame(x, y, group, size)\n",
    "\n",
    "p <- plot_ly(ds, x = x, y = y, mode = \"markers\", split = group, size = size) %>%\n",
    "  layout(title = \"Scatter Plot\")\n",
    "embed_notebook(p)\n"
   ]
  },
  {
   "cell_type": "code",
   "execution_count": null,
   "metadata": {},
   "outputs": [],
   "source": []
  }
 ],
 "metadata": {
  "kernelspec": {
   "display_name": "R",
   "language": "R",
   "name": "ir"
  },
  "language_info": {
   "codemirror_mode": "r",
   "file_extension": ".r",
   "mimetype": "text/x-r-source",
   "name": "R",
   "pygments_lexer": "r",
   "version": "3.4.1"
  }
 },
 "nbformat": 4,
 "nbformat_minor": 2
}

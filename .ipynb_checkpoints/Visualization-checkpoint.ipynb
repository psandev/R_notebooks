{
 "cells": [
  {
   "cell_type": "code",
   "execution_count": 2,
   "metadata": {},
   "outputs": [
    {
     "name": "stderr",
     "output_type": "stream",
     "text": [
      "\n",
      "Attaching package: 'dplyr'\n",
      "\n",
      "The following objects are masked from 'package:stats':\n",
      "\n",
      "    filter, lag\n",
      "\n",
      "The following objects are masked from 'package:base':\n",
      "\n",
      "    intersect, setdiff, setequal, union\n",
      "\n"
     ]
    },
    {
     "name": "stdout",
     "output_type": "stream",
     "text": [
      "Observations: 32\n",
      "Variables: 5\n",
      "$ Class    <fctr> 1st, 2nd, 3rd, Crew, 1st, 2nd, 3rd, Crew, 1st, 2nd, 3rd, ...\n",
      "$ Sex      <fctr> Male, Male, Male, Male, Female, Female, Female, Female, M...\n",
      "$ Age      <fctr> Child, Child, Child, Child, Child, Child, Child, Child, A...\n",
      "$ Survived <fctr> No, No, No, No, No, No, No, No, No, No, No, No, No, No, N...\n",
      "$ Freq     <dbl> 0, 0, 35, 0, 0, 0, 17, 0, 118, 154, 387, 670, 4, 13, 89, 3...\n"
     ]
    },
    {
     "data": {},
     "metadata": {},
     "output_type": "display_data"
    },
    {
     "ename": "ERROR",
     "evalue": "Error in oldClass(stats) <- cl: adding class \"factor\" to an invalid object\n",
     "output_type": "error",
     "traceback": [
      "Error in oldClass(stats) <- cl: adding class \"factor\" to an invalid object\nTraceback:\n",
      "1. boxplot(Class ~ sum, byClass, stack = T, auto.key = list(space = \"top\", \n .     columns = 2))",
      "2. boxplot.formula(Class ~ sum, byClass, stack = T, auto.key = list(space = \"top\", \n .     columns = 2))",
      "3. boxplot(split(mf[[response]], mf[-response], drop = drop, sep = sep, \n .     lex.order = lex.order), ...)",
      "4. boxplot.default(split(mf[[response]], mf[-response], drop = drop, \n .     sep = sep, lex.order = lex.order), ...)"
     ]
    },
    {
     "data": {
      "image/png": "[encoded data removed]",
      "text/plain": [
       "plot without title"
      ]
     },
     "metadata": {},
     "output_type": "display_data"
    }
   ],
   "source": [
    "library(dplyr)\n",
    "library(tidyr)\n",
    "library(lattice)\n",
    "library(ggplot2)\n",
    "data(\"Titanic\")\n",
    "titanic_df <-data.frame((Titanic))\n",
    "glimpse(titanic_df)\n",
    "\n",
    "byClass <- titanic_df %>%\n",
    "  group_by(Class, Age, Survived) %>%\n",
    "  summarise(sum = sum(Freq)) \n",
    "\n",
    "byClassSpread <- spread(byClass, Survived, sum)\n",
    "\n",
    "barchart(sum ~ Class | Age ,\n",
    "         byClass, groups = Survived,\n",
    "         stack = T,\n",
    "         auto.key=list(space=\"top\", columns=2))\n",
    "\n",
    "\n",
    "boxplot(Class ~ sum,\n",
    "         byClass,\n",
    "         stack = T,\n",
    "         auto.key=list(space=\"top\", columns=2))\n"
   ]
  },
  {
   "cell_type": "code",
   "execution_count": null,
   "metadata": {
    "collapsed": true
   },
   "outputs": [],
   "source": []
  }
 ],
 "metadata": {
  "kernelspec": {
   "display_name": "R",
   "language": "R",
   "name": "ir"
  },
  "language_info": {
   "codemirror_mode": "r",
   "file_extension": ".r",
   "mimetype": "text/x-r-source",
   "name": "R",
   "pygments_lexer": "r",
   "version": "3.4.1"
  }
 },
 "nbformat": 4,
 "nbformat_minor": 2
}
